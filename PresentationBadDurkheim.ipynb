{
 "cells": [
  {
   "cell_type": "code",
   "execution_count": 1,
   "metadata": {
    "slideshow": {
     "slide_type": "skip"
    }
   },
   "outputs": [
    {
     "data": {
      "text/html": [
       "<style>\n",
       ".reveal {\n",
       "background: white;\n",
       "}\n",
       "\n",
       ".rise-enabled #notebook-container {\n",
       "\n",
       "    width: 100% !important;\n",
       "}\n",
       "\n",
       "div.cell {\n",
       "padding: 0;\n",
       "}\n",
       "\n",
       ".rise-enabled .text_cell {\n",
       "    margin: -1px;\n",
       "}\n",
       "\n",
       ".rise-enabled.ctb_global_show .ctb_show ~ .text_cell_render,  rise-enabled.ctb_global_show .ctb_show ~ .text_cell_render {\n",
       "    padding-left: 7%;\n",
       "    padding-right: 7%;\n",
       "}\n",
       "\n",
       "div.input {\n",
       "    padding-left: 5%;\n",
       "    padding-right: 5%;\n",
       "    padding-bottom: 0.5em;\n",
       "    padding-top: 0.5em;\n",
       "}\n",
       "\n",
       "div.output_wrapper {\n",
       "    padding-left: 5%;\n",
       "    padding-right: 5%;\n",
       "    padding-top: 0.25em;\n",
       "    padding-bottom: 0.25em;\n",
       "}\n",
       "\n",
       ".reveal .slides > section.present {\n",
       "height: 100%;\n",
       "}\n",
       "\n",
       ".reveal .slides > section.stack {\n",
       "\n",
       "    overflow: scroll;\n",
       "}\n",
       "\n",
       "\n",
       ".rise-enabled #exit_b, .rise-enabled #help_b, .rise-enabled .reveal .controls, .rise-enabled .reveal .slide-number {\n",
       "    opacity: 0.1;\n",
       "}\n",
       "\n",
       ".reveal div.slides {\n",
       "    width: 90% !important;\n",
       "    padding-left: 5% !important;\n",
       "    padding-right: 5% !important;\n",
       "    margin-top:0 !important;\n",
       "}\n",
       "\n",
       ".reveal .slides section {\n",
       "\n",
       "    position: absolute !important;\n",
       "    left: 0px !important;\n",
       "    width: 90%;\n",
       "    top: 0px !important;\n",
       "    margin-left: 5%;\n",
       "    margin-right: 5%;\n",
       "    padding-bottom: 20px;\n",
       "    padding-top: 0px !important;\n",
       "    padding-left: 0px;\n",
       "    padding-right: 0px;\n",
       "\n",
       "}\n",
       "\n",
       ".reveal h1{\n",
       "    text-align: center !important;\n",
       "    padding-left: 3% !important;\n",
       "    padding-top: 5% !important;\n",
       "    padding-bottom: 5% !important;\n",
       "    padding-right: 3% !important;\n",
       "    margin-top: 10%;\n",
       "    margin-bottom: 7%;\n",
       "    text-transform: uppercase;\n",
       "    font-size: 2em;\n",
       "    border-radius: 25px;\n",
       "    color: white;\n",
       "    text-align: center;\n",
       "    background: #223d71;\n",
       "}\n",
       "\n",
       ".reveal h1.title {\n",
       "    text-align: center !important;\n",
       "    padding-left: 3% !important;\n",
       "    padding-top: 5% !important;\n",
       "    padding-bottom: 5% !important;\n",
       "    padding-right: 3% !important;\n",
       "    margin-left: 10% !important;\n",
       "    margin-top: 6%;\n",
       "    width: 80% !important;\n",
       "    text-transform: uppercase;\n",
       "    font-size: 2em;\n",
       "    border-radius: 25px;\n",
       "}\n",
       "\n",
       ".reveal p.author, .reveal p.date {\n",
       "    text-align: center;\n",
       "}\n",
       "\n",
       ".reveal .controls {\n",
       "    color: #223d7114\n",
       "}\n",
       "\n",
       ".reveal h2 {\n",
       "    margin-top: 0 !important;\n",
       "    background: #223d71;\n",
       "    margin-left: -16%;\n",
       "    margin-right: 0;\n",
       "    margin-bottom: 4%;\n",
       "    margin-top: -2% !important;\n",
       "    width: 125% !important;\n",
       "    font-size: 1.77em;\n",
       "    padding-bottom: 2%;\n",
       "    padding-top: 2%;\n",
       "    color: white;\n",
       "    text-align: left;\n",
       "    padding-left: 16%;\n",
       "}\n",
       "\n",
       ".reveal h3 {\n",
       "\n",
       "    text-align: center;\n",
       "    font-family: serif;\n",
       "    font-weight: normal !important;\n",
       "}\n",
       "}\n",
       "\n",
       "\n",
       ".reveal li,\n",
       ".reveal p {\n",
       "font-size: 1em;\n",
       "padding-top: 30px;\n",
       "font-family: serif;\n",
       "}\n",
       "\n",
       ".reveal li li {\n",
       "font-size: 1em;\n",
       "}\n",
       "\n",
       ".reveal p {\n",
       "text-align: justify;\n",
       "font-family: serif;\n",
       "padding-bottom: 0.5em;\n",
       "line-height: initial;\n",
       "}\n",
       "\n",
       ".reveal p img, .reveal p video {\n",
       "    margin-left: auto;\n",
       "    margin-right: auto;\n",
       "    display: block;\n",
       "    max-height: 350px;\n",
       "}\n",
       "\n",
       ".reveal li {\n",
       "list-style-position: inside;\n",
       "display: list-item;\n",
       "font-family: serif;\n",
       "margin: 0 0 30px 0;\n",
       "}\n",
       "\n",
       ".reveal ol, .reveal ul {\n",
       "    display: inline-block;\n",
       "    text-align: left;\n",
       "    margin: 0 0 0 1em;\n",
       "    font-family: serif;\n",
       "    }\n",
       "\n",
       ".reveal ul ul, .reveal ul ol, .reveal ol ol, .reveal ol ul {\n",
       "    display: block;\n",
       "    margin-left: 40px;\n",
       "    list-style-type: square;\n",
       "    font-family: serif;\n",
       "    margin-top: 30px;\n",
       "}\n",
       "\n",
       ".reveal video {\n",
       "    margin-top: 30px;\n",
       "    max-height: 350px;\n",
       "}\n",
       "\n",
       ".reveal.overview {\n",
       "top: 0%;\n",
       "left: 0%;\n",
       "}\n",
       "\n",
       ".reveal .slides section {\n",
       "/* height: 100%; */\n",
       "width: 100% !important;\n",
       "padding-left: 0;\n",
       "margin-left: 0;\n",
       "}\n",
       "\n",
       ".reveal .progress {\n",
       "    height: 5px;\n",
       "    background-color: rgba(0, 128, 128, 0.1);\n",
       "}\n",
       "\n",
       ".rise-enabled .reveal .progress span {\n",
       "    background: #223d71;\n",
       "}\n",
       "\n",
       ".reveal td  {\n",
       "  font-size: 25px\n",
       "}\n",
       ".reveal th {\n",
       "  font-size: 25px\n",
       "}\n",
       "</style>"
      ],
      "text/plain": [
       "<IPython.core.display.HTML object>"
      ]
     },
     "metadata": {},
     "output_type": "display_data"
    }
   ],
   "source": [
    "%%html\n",
    "<style>\n",
    ".reveal {\n",
    "background: white;\n",
    "}\n",
    "\n",
    ".rise-enabled #notebook-container {\n",
    "\n",
    "    width: 100% !important;\n",
    "}\n",
    "\n",
    "div.cell {\n",
    "padding: 0;\n",
    "}\n",
    "\n",
    ".rise-enabled .text_cell {\n",
    "    margin: -1px;\n",
    "}\n",
    "\n",
    ".rise-enabled.ctb_global_show .ctb_show ~ .text_cell_render,  rise-enabled.ctb_global_show .ctb_show ~ .text_cell_render {\n",
    "    padding-left: 7%;\n",
    "    padding-right: 7%;\n",
    "}\n",
    "\n",
    "div.input {\n",
    "    padding-left: 5%;\n",
    "    padding-right: 5%;\n",
    "    padding-bottom: 0.5em;\n",
    "    padding-top: 0.5em;\n",
    "}\n",
    "\n",
    "div.output_wrapper {\n",
    "    padding-left: 5%;\n",
    "    padding-right: 5%;\n",
    "    padding-top: 0.25em;\n",
    "    padding-bottom: 0.25em;\n",
    "}\n",
    "\n",
    ".reveal .slides > section.present {\n",
    "height: 100%;\n",
    "}\n",
    "\n",
    ".reveal .slides > section.stack {\n",
    "\n",
    "    overflow: scroll;\n",
    "}\n",
    "\n",
    "\n",
    ".rise-enabled #exit_b, .rise-enabled #help_b, .rise-enabled .reveal .controls, .rise-enabled .reveal .slide-number {\n",
    "    opacity: 0.1;\n",
    "}\n",
    "\n",
    ".reveal div.slides {\n",
    "    width: 90% !important;\n",
    "    padding-left: 5% !important;\n",
    "    padding-right: 5% !important;\n",
    "    margin-top:0 !important;\n",
    "}\n",
    "\n",
    ".reveal .slides section {\n",
    "\n",
    "    position: absolute !important;\n",
    "    left: 0px !important;\n",
    "    width: 90%;\n",
    "    top: 0px !important;\n",
    "    margin-left: 5%;\n",
    "    margin-right: 5%;\n",
    "    padding-bottom: 20px;\n",
    "    padding-top: 0px !important;\n",
    "    padding-left: 0px;\n",
    "    padding-right: 0px;\n",
    "\n",
    "}\n",
    "\n",
    ".reveal h1{\n",
    "    text-align: center !important;\n",
    "    padding-left: 3% !important;\n",
    "    padding-top: 5% !important;\n",
    "    padding-bottom: 5% !important;\n",
    "    padding-right: 3% !important;\n",
    "    margin-top: 10%;\n",
    "    margin-bottom: 7%;\n",
    "    text-transform: uppercase;\n",
    "    font-size: 2em;\n",
    "    border-radius: 25px;\n",
    "    color: white;\n",
    "    text-align: center;\n",
    "    background: #223d71;\n",
    "}\n",
    "\n",
    ".reveal h1.title {\n",
    "    text-align: center !important;\n",
    "    padding-left: 3% !important;\n",
    "    padding-top: 5% !important;\n",
    "    padding-bottom: 5% !important;\n",
    "    padding-right: 3% !important;\n",
    "    margin-left: 10% !important;\n",
    "    margin-top: 6%;\n",
    "    width: 80% !important;\n",
    "    text-transform: uppercase;\n",
    "    font-size: 2em;\n",
    "    border-radius: 25px;\n",
    "}\n",
    "\n",
    ".reveal p.author, .reveal p.date {\n",
    "    text-align: center;\n",
    "}\n",
    "\n",
    ".reveal .controls {\n",
    "    color: #223d7114\n",
    "}\n",
    "\n",
    ".reveal h2 {\n",
    "    margin-top: 0 !important;\n",
    "    background: #223d71;\n",
    "    margin-left: -16%;\n",
    "    margin-right: 0;\n",
    "    margin-bottom: 4%;\n",
    "    margin-top: -2% !important;\n",
    "    width: 125% !important;\n",
    "    font-size: 1.77em;\n",
    "    padding-bottom: 2%;\n",
    "    padding-top: 2%;\n",
    "    color: white;\n",
    "    text-align: left;\n",
    "    padding-left: 16%;\n",
    "}\n",
    "\n",
    ".reveal h3 {\n",
    "\n",
    "    text-align: center;\n",
    "    font-family: serif;\n",
    "    font-weight: normal !important;\n",
    "}\n",
    "}\n",
    "\n",
    "\n",
    ".reveal li,\n",
    ".reveal p {\n",
    "font-size: 1em;\n",
    "padding-top: 30px;\n",
    "font-family: serif;\n",
    "}\n",
    "\n",
    ".reveal li li {\n",
    "font-size: 1em;\n",
    "}\n",
    "\n",
    ".reveal p {\n",
    "text-align: justify;\n",
    "font-family: serif;\n",
    "padding-bottom: 0.5em;\n",
    "line-height: initial;\n",
    "}\n",
    "\n",
    ".reveal p img, .reveal p video {\n",
    "    margin-left: auto;\n",
    "    margin-right: auto;\n",
    "    display: block;\n",
    "    max-height: 350px;\n",
    "}\n",
    "\n",
    ".reveal li {\n",
    "list-style-position: inside;\n",
    "display: list-item;\n",
    "font-family: serif;\n",
    "margin: 0 0 30px 0;\n",
    "}\n",
    "\n",
    ".reveal ol, .reveal ul {\n",
    "    display: inline-block;\n",
    "    text-align: left;\n",
    "    margin: 0 0 0 1em;\n",
    "    font-family: serif;\n",
    "    }\n",
    "\n",
    ".reveal ul ul, .reveal ul ol, .reveal ol ol, .reveal ol ul {\n",
    "    display: block;\n",
    "    margin-left: 40px;\n",
    "    list-style-type: square;\n",
    "    font-family: serif;\n",
    "    margin-top: 30px;\n",
    "}\n",
    "\n",
    ".reveal video {\n",
    "    margin-top: 30px;\n",
    "    max-height: 350px;\n",
    "}\n",
    "\n",
    ".reveal.overview {\n",
    "top: 0%;\n",
    "left: 0%;\n",
    "}\n",
    "\n",
    ".reveal .slides section {\n",
    "/* height: 100%; */\n",
    "width: 100% !important;\n",
    "padding-left: 0;\n",
    "margin-left: 0;\n",
    "}\n",
    "\n",
    ".reveal .progress {\n",
    "    height: 5px;\n",
    "    background-color: rgba(0, 128, 128, 0.1);\n",
    "}\n",
    "\n",
    ".rise-enabled .reveal .progress span {\n",
    "    background: #223d71;\n",
    "}\n",
    "\n",
    ".reveal td  {\n",
    "  font-size: 25px\n",
    "}\n",
    ".reveal th {\n",
    "  font-size: 25px\n",
    "}\n",
    "</style>"
   ]
  },
  {
   "cell_type": "markdown",
   "metadata": {
    "slideshow": {
     "slide_type": "slide"
    }
   },
   "source": [
    "## Serre spectral sequence of a cartesian product\n",
    "\n"
   ]
  },
  {
   "cell_type": "code",
   "execution_count": 26,
   "metadata": {
    "scrolled": true,
    "slideshow": {
     "slide_type": "fragment"
    }
   },
   "outputs": [
    {
     "data": {
      "text/plain": [
       "Additive abelian group isomorphic to Z"
      ]
     },
     "execution_count": 26,
     "metadata": {},
     "output_type": "execute_result"
    }
   ],
   "source": [
    "from sage.interfaces.kenzo import *\n",
    "S2 = Sphere(2)                           \n",
    "S3 = Sphere(3)                           \n",
    "P = S3.cartesian_product(S2)              \n",
    "E = P.serre_spectral_sequence()    \n",
    "E.group(2,3,0)                 "
   ]
  },
  {
   "cell_type": "code",
   "execution_count": 27,
   "metadata": {
    "scrolled": true,
    "slideshow": {
     "slide_type": "fragment"
    }
   },
   "outputs": [
    {
     "data": {
      "text/html": [
       "<div class=\"notruncate\">\n",
       "<table  class=\"table_form\">\n",
       "<tbody>\n",
       "<tr class =\"row-a\">\n",
       "<td>Z</td>\n",
       "<td>0</td>\n",
       "<td>0</td>\n",
       "<td>Z</td>\n",
       "</tr>\n",
       "<tr class =\"row-b\">\n",
       "<td>0</td>\n",
       "<td>0</td>\n",
       "<td>0</td>\n",
       "<td>0</td>\n",
       "</tr>\n",
       "<tr class =\"row-a\">\n",
       "<td>Z</td>\n",
       "<td>0</td>\n",
       "<td>0</td>\n",
       "<td>Z</td>\n",
       "</tr>\n",
       "</tbody>\n",
       "</table>\n",
       "</div>"
      ],
      "text/plain": [
       "  Z   0   0   Z\n",
       "  0   0   0   0\n",
       "  Z   0   0   Z"
      ]
     },
     "execution_count": 27,
     "metadata": {},
     "output_type": "execute_result"
    }
   ],
   "source": [
    "E.table(2, 0, 3, 0, 2)                   "
   ]
  },
  {
   "cell_type": "code",
   "execution_count": 28,
   "metadata": {
    "slideshow": {
     "slide_type": "fragment"
    }
   },
   "outputs": [
    {
     "data": {
      "text/plain": [
       "[0]"
      ]
     },
     "execution_count": 28,
     "metadata": {},
     "output_type": "execute_result"
    }
   ],
   "source": [
    "E.matrix(3,3,0)"
   ]
  },
  {
   "cell_type": "markdown",
   "metadata": {
    "slideshow": {
     "slide_type": "slide"
    }
   },
   "source": [
    "## Serre spectral sequence of the Whitehead tower\n",
    "\n"
   ]
  },
  {
   "cell_type": "code",
   "execution_count": 29,
   "metadata": {
    "scrolled": true,
    "slideshow": {
     "slide_type": "fragment"
    }
   },
   "outputs": [
    {
     "data": {
      "text/plain": [
       "Additive abelian group isomorphic to Z"
      ]
     },
     "execution_count": 29,
     "metadata": {},
     "output_type": "execute_result"
    }
   ],
   "source": [
    "from sage.interfaces.kenzo import *                       \n",
    "S3 = Sphere(3)                      \n",
    "E = S3.sw_spectral_sequence()\n",
    "E.group(2,3,0)                 "
   ]
  },
  {
   "cell_type": "code",
   "execution_count": 30,
   "metadata": {
    "scrolled": true,
    "slideshow": {
     "slide_type": "fragment"
    }
   },
   "outputs": [
    {
     "data": {
      "text/html": [
       "<div class=\"notruncate\">\n",
       "<table  class=\"table_form\">\n",
       "<tbody>\n",
       "<tr class =\"row-a\">\n",
       "<td>Z</td>\n",
       "<td>0</td>\n",
       "<td>0</td>\n",
       "<td>Z</td>\n",
       "</tr>\n",
       "<tr class =\"row-b\">\n",
       "<td>0</td>\n",
       "<td>0</td>\n",
       "<td>0</td>\n",
       "<td>0</td>\n",
       "</tr>\n",
       "<tr class =\"row-a\">\n",
       "<td>Z</td>\n",
       "<td>0</td>\n",
       "<td>0</td>\n",
       "<td>Z</td>\n",
       "</tr>\n",
       "<tr class =\"row-b\">\n",
       "<td>0</td>\n",
       "<td>0</td>\n",
       "<td>0</td>\n",
       "<td>0</td>\n",
       "</tr>\n",
       "<tr class =\"row-a\">\n",
       "<td>Z</td>\n",
       "<td>0</td>\n",
       "<td>0</td>\n",
       "<td>Z</td>\n",
       "</tr>\n",
       "</tbody>\n",
       "</table>\n",
       "</div>"
      ],
      "text/plain": [
       "  Z   0   0   Z\n",
       "  0   0   0   0\n",
       "  Z   0   0   Z\n",
       "  0   0   0   0\n",
       "  Z   0   0   Z"
      ]
     },
     "execution_count": 30,
     "metadata": {},
     "output_type": "execute_result"
    }
   ],
   "source": [
    "E.table(2, 0, 3, 0, 4)                   "
   ]
  },
  {
   "cell_type": "code",
   "execution_count": 31,
   "metadata": {
    "slideshow": {
     "slide_type": "fragment"
    }
   },
   "outputs": [
    {
     "data": {
      "text/plain": [
       "[1]"
      ]
     },
     "execution_count": 31,
     "metadata": {},
     "output_type": "execute_result"
    }
   ],
   "source": [
    "E.matrix(3,3,0)"
   ]
  },
  {
   "cell_type": "code",
   "execution_count": 32,
   "metadata": {
    "slideshow": {
     "slide_type": "fragment"
    }
   },
   "outputs": [
    {
     "data": {
      "text/plain": [
       "[2]"
      ]
     },
     "execution_count": 32,
     "metadata": {},
     "output_type": "execute_result"
    }
   ],
   "source": [
    "E.matrix(3,3,2)"
   ]
  },
  {
   "cell_type": "markdown",
   "metadata": {
    "slideshow": {
     "slide_type": "slide"
    }
   },
   "source": [
    "## Eilenberg-Moore spectral sequence\n",
    "\n"
   ]
  },
  {
   "cell_type": "code",
   "execution_count": 33,
   "metadata": {
    "scrolled": true,
    "slideshow": {
     "slide_type": "fragment"
    }
   },
   "outputs": [
    {
     "data": {
      "text/html": [
       "<div class=\"notruncate\">\n",
       "<table  class=\"table_form\">\n",
       "<tbody>\n",
       "<tr class =\"row-a\">\n",
       "<td>0</td>\n",
       "<td>Z</td>\n",
       "<td>Z + Z + Z</td>\n",
       "<td>Z + Z + Z</td>\n",
       "</tr>\n",
       "<tr class =\"row-b\">\n",
       "<td>0</td>\n",
       "<td>0</td>\n",
       "<td>0</td>\n",
       "<td>0</td>\n",
       "</tr>\n",
       "<tr class =\"row-a\">\n",
       "<td>0</td>\n",
       "<td>0</td>\n",
       "<td>Z</td>\n",
       "<td>Z + Z</td>\n",
       "</tr>\n",
       "<tr class =\"row-b\">\n",
       "<td>0</td>\n",
       "<td>0</td>\n",
       "<td>0</td>\n",
       "<td>0</td>\n",
       "</tr>\n",
       "</tbody>\n",
       "</table>\n",
       "</div>"
      ],
      "text/plain": [
       "  0   Z   Z + Z + Z   Z + Z + Z\n",
       "  0   0   0           0\n",
       "  0   0   Z           Z + Z\n",
       "  0   0   0           0"
      ]
     },
     "execution_count": 33,
     "metadata": {},
     "output_type": "execute_result"
    }
   ],
   "source": [
    "from sage.interfaces.kenzo import Sphere   \n",
    "S3 = Sphere(3)\n",
    "L = S3.loop_space() \n",
    "EMS = L.em_spectral_sequence()\n",
    "EMS.table(1, -5, -2, 5, 8)              "
   ]
  },
  {
   "cell_type": "code",
   "execution_count": 19,
   "metadata": {
    "slideshow": {
     "slide_type": "fragment"
    }
   },
   "outputs": [
    {
     "data": {
      "text/plain": [
       "[ 3  3  0]\n",
       "[-2  0  2]\n",
       "[ 0 -3 -3]"
      ]
     },
     "execution_count": 19,
     "metadata": {},
     "output_type": "execute_result"
    }
   ],
   "source": [
    "EMS.matrix(1, -2 ,8)"
   ]
  },
  {
   "cell_type": "markdown",
   "metadata": {
    "slideshow": {
     "slide_type": "slide"
    }
   },
   "source": [
    "\n",
    "\n",
    "### Trac in the SageMath Development Organization Page\n",
    "\n",
    "https://trac.sagemath.org/ticket/27880"
   ]
  },
  {
   "cell_type": "markdown",
   "metadata": {
    "slideshow": {
     "slide_type": "notes"
    }
   },
   "source": [
    "Con Firefox, si pulsamos en el link del trac lo podemos ver, y luego para volver a la presentación desde el teclado\n",
    "solo hay que hacer CTRL + MAYUS + TAB (volver a la pestaña anterior). De esta forma parece que tampoco has salido de la\n",
    "presentación porque todo seguirá a pantalla completa."
   ]
  },
  {
   "cell_type": "markdown",
   "metadata": {
    "slideshow": {
     "slide_type": "slide"
    }
   },
   "source": [
    "<center><h1>Thanks</h1></center>"
   ]
  },
  {
   "cell_type": "markdown",
   "metadata": {
    "slideshow": {
     "slide_type": "slide"
    }
   },
   "source": [
    "# About this presentation\n",
    "\n",
    "Combination of:\n",
    "\n",
    "- SageMath\n",
    "- Kenzo\n",
    "- Jupyter\n",
    "- RISE\n",
    "- CSS\n",
    "- Binder"
   ]
  }
 ],
 "metadata": {
  "celltoolbar": "Slideshow",
  "kernelspec": {
   "display_name": "SageMath 8.9.beta1",
   "language": "sage",
   "name": "sagemath"
  },
  "language_info": {
   "codemirror_mode": {
    "name": "ipython",
    "version": 2
   },
   "file_extension": ".py",
   "mimetype": "text/x-python",
   "name": "python",
   "nbconvert_exporter": "python",
   "pygments_lexer": "ipython2",
   "version": "2.7.15"
  }
 },
 "nbformat": 4,
 "nbformat_minor": 2
}
